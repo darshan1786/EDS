{
  "nbformat": 4,
  "nbformat_minor": 0,
  "metadata": {
    "colab": {
      "provenance": []
    },
    "kernelspec": {
      "name": "python3",
      "display_name": "Python 3"
    },
    "language_info": {
      "name": "python"
    }
  },
  "cells": [
    {
      "cell_type": "markdown",
      "source": [],
      "metadata": {
        "id": "tIRBU4BnrCWz"
      }
    },
    {
      "cell_type": "code",
      "source": [],
      "metadata": {
        "id": "urKr6j9zWdD7"
      },
      "execution_count": null,
      "outputs": []
    },
    {
      "cell_type": "code",
      "source": [
        "data=darshan.xlsx(csv.reader)"
      ],
      "metadata": {
        "id": "CjoHcgQxR1y2"
      },
      "execution_count": null,
      "outputs": []
    },
    {
      "cell_type": "markdown",
      "source": [],
      "metadata": {
        "id": "78cYGAdcR22p"
      }
    },
    {
      "cell_type": "code",
      "source": [
        "import csv\n",
        "fcsv=open('/content/darsh.csv')\n",
        "data=list(csv.reader(fcsv,delimiter=','))\n",
        "print(data)\n",
        "fcsv.close()\n",
        "\n"
      ],
      "metadata": {
        "colab": {
          "base_uri": "https://localhost:8080/"
        },
        "id": "pXDBUIAirUWy",
        "outputId": "63fca0d1-30d2-40d8-fd8b-d2f7c2fdf611"
      },
      "execution_count": null,
      "outputs": [
        {
          "output_type": "stream",
          "name": "stdout",
          "text": [
            "[['Id', 'experience age', '', 'Gender', 'salary'], ['1', '5', '21', 'Male', '25000'], ['2', '2', '25', 'female', '30000'], ['3', '', '30', 'male', '28000'], ['4', '7', '25', 'male', '20000'], ['5', '6', '24', 'female', '24000'], ['6', '8', '28', 'female', '120000'], ['7', '4', '26', 'female', '200000'], ['8', '5', '29', 'male', '65000'], ['9', '2', '25', 'Male', '140000'], ['10', '4', '30', 'male', '250000']]\n"
          ]
        }
      ]
    },
    {
      "cell_type": "code",
      "source": [
        "import csv\n",
        "fcsv=open('/content/darshanT.csv')\n",
        "data=list(csv.reader(fcsv,delimiter=','))\n",
        "print(data)\n",
        "fcsv.close()"
      ],
      "metadata": {
        "colab": {
          "base_uri": "https://localhost:8080/"
        },
        "id": "Blz2dftuTHBY",
        "outputId": "c2c2bd3f-9070-4d52-fa91-595941d55b40"
      },
      "execution_count": null,
      "outputs": [
        {
          "output_type": "stream",
          "name": "stdout",
          "text": [
            "[['ID', 'Exp', 'Name', 'Gender', ' Age', 'Salary'], ['1', '4', 'Girish', 'Male', '24', '10000'], ['2', '5', 'sanket', 'male', '25', '12000'], ['3', '7', 'bengal', 'female', '30', '15000'], ['4', '6', 'isha', 'female', '24', '20000'], ['5', '4', 'rohit', 'male', '28', '21000'], ['6', '3', 'tanuja', 'female', '29', '14000'], ['7', '4', 'monal', 'female', '24', '18000'], ['8', '5', 'viraj', 'Male', '22', '16000'], ['9', '8', 'diya', 'female', '30', '70000'], ['10', '9', 'vicky', 'Male', '32', '26000']]\n"
          ]
        }
      ]
    },
    {
      "cell_type": "code",
      "source": [
        "type(data)"
      ],
      "metadata": {
        "colab": {
          "base_uri": "https://localhost:8080/"
        },
        "id": "exKz36ZXrUei",
        "outputId": "fcf74362-48de-441e-d004-d851b5ac3bec"
      },
      "execution_count": null,
      "outputs": [
        {
          "output_type": "execute_result",
          "data": {
            "text/plain": [
              "list"
            ]
          },
          "metadata": {},
          "execution_count": 2
        }
      ]
    },
    {
      "cell_type": "code",
      "source": [
        "data[0]"
      ],
      "metadata": {
        "colab": {
          "base_uri": "https://localhost:8080/"
        },
        "id": "YXOFz6C4rUhx",
        "outputId": "4d14cd22-e984-44f8-aced-f4e6f78dffef"
      },
      "execution_count": null,
      "outputs": [
        {
          "output_type": "execute_result",
          "data": {
            "text/plain": [
              "['Id', 'experience age', '', 'Gender', 'salary']"
            ]
          },
          "metadata": {},
          "execution_count": 3
        }
      ]
    },
    {
      "cell_type": "code",
      "source": [
        "max=int(data[1][4])\n",
        "for i in range(2,len(data)):\n",
        "  if max<int(data[i][4]):\n",
        "    max=int(data[i][4])"
      ],
      "metadata": {
        "id": "27fHmTEI63kC"
      },
      "execution_count": null,
      "outputs": []
    },
    {
      "cell_type": "code",
      "source": [
        "data[1][1]"
      ],
      "metadata": {
        "colab": {
          "base_uri": "https://localhost:8080/",
          "height": 35
        },
        "id": "YA5ZA5zRyBkK",
        "outputId": "bd257cd3-d3c8-40d4-f119-1d641842f277"
      },
      "execution_count": null,
      "outputs": [
        {
          "output_type": "execute_result",
          "data": {
            "text/plain": [
              "'4'"
            ],
            "application/vnd.google.colaboratory.intrinsic+json": {
              "type": "string"
            }
          },
          "metadata": {},
          "execution_count": 7
        }
      ]
    },
    {
      "cell_type": "code",
      "source": [
        "sum=0\n",
        "for i in range(1,5):\n",
        "  print(sum,'+',data[i][4])\n",
        "  sum=sum+int(data[i][4])\n",
        "  print (sum)"
      ],
      "metadata": {
        "colab": {
          "base_uri": "https://localhost:8080/"
        },
        "id": "eoBQcrHtzkvS",
        "outputId": "84657bce-7299-4593-fc70-38a7c73987a8"
      },
      "execution_count": null,
      "outputs": [
        {
          "output_type": "stream",
          "name": "stdout",
          "text": [
            "0 + 24\n",
            "24\n",
            "24 + 25\n",
            "49\n",
            "49 + 30\n",
            "79\n",
            "79 + 24\n",
            "103\n"
          ]
        }
      ]
    }
  ]
}