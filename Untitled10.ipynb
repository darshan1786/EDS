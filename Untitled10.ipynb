{
  "nbformat": 4,
  "nbformat_minor": 0,
  "metadata": {
    "colab": {
      "provenance": []
    },
    "kernelspec": {
      "name": "python3",
      "display_name": "Python 3"
    },
    "language_info": {
      "name": "python"
    }
  },
  "cells": [
    {
      "cell_type": "code",
      "execution_count": null,
      "metadata": {
        "colab": {
          "base_uri": "https://localhost:8080/"
        },
        "id": "2KBBhKHBMAPU",
        "outputId": "54f47f41-f565-406f-a2fb-324b9f5d365b"
      },
      "outputs": [
        {
          "output_type": "stream",
          "name": "stdout",
          "text": [
            "   PRN  S1  S2  S3  S4  S5\n",
            "0    1  50  42  35  36  43\n",
            "1    2  48  35  48  42  42\n",
            "2    3  48  35  48  42  32\n",
            "3    4  48  35  48  42  42\n",
            "4    5  22  23  25  36  35\n",
            "        Name Division  Roll NO  Gender\n",
            "0      sanvi        A      201  Female\n",
            "1  mrunmayee        B      301  Female\n",
            "2     Gayari        A      401  Female\n",
            "3  shambhavi        B      501  Female\n",
            "4         om        A      601    male\n"
          ]
        }
      ],
      "source": [
        "import pandas as pd\n",
        "df=pd.read_csv('/content/DARSHANPRN.csv')\n",
        "print(df)\n",
        "import pandas as pd\n",
        "df=pd.read_csv('/content/darshan.csv')\n",
        "print(df)\n"
      ]
    },
    {
      "cell_type": "code",
      "source": [],
      "metadata": {
        "id": "rm4kHbUxWNmT"
      },
      "execution_count": null,
      "outputs": []
    }
  ]
}