{
  "nbformat": 4,
  "nbformat_minor": 0,
  "metadata": {
    "colab": {
      "provenance": [],
      "toc_visible": true
    },
    "kernelspec": {
      "name": "python3",
      "display_name": "Python 3"
    },
    "language_info": {
      "name": "python"
    }
  },
  "cells": [
    {
      "cell_type": "code",
      "execution_count": null,
      "metadata": {
        "colab": {
          "base_uri": "https://localhost:8080/",
          "height": 106
        },
        "id": "ujA7hb2mNiNe",
        "outputId": "7f2b32d7-c034-4a07-eec1-744ba9afe570"
      },
      "outputs": [
        {
          "output_type": "display_data",
          "data": {
            "text/plain": [
              "array([['EMPLOYEE', 'FIRST NAME', 'LAST NAME'],\n",
              "       ['198', 'DONALD', 'Oconnel'],\n",
              "       ['199', 'DOUGLAS', 'Grant'],\n",
              "       ['200', 'JENNIFER', 'whalen'],\n",
              "       ['201', 'MICHAL', 'fay']], dtype='<U10')"
            ]
          },
          "metadata": {}
        }
      ],
      "source": [
        "import numpy as np\n",
        "arr1=np.genfromtxt(\"/content/darshan.csv\",delimiter=',',dtype=str)\n",
        "display(arr1)"
      ]
    },
    {
      "cell_type": "code",
      "source": [
        "employeeid=[]\n",
        "employeeid=arr1[:,0]\n",
        "print(employeeid)"
      ],
      "metadata": {
        "colab": {
          "base_uri": "https://localhost:8080/"
        },
        "id": "J_a3bzv0RBsC",
        "outputId": "df61f070-0939-40ef-db8a-d6495e4110e1"
      },
      "execution_count": null,
      "outputs": [
        {
          "output_type": "stream",
          "name": "stdout",
          "text": [
            "['EMPLOYEE' '198' '199' '200' '201']\n"
          ]
        }
      ]
    },
    {
      "cell_type": "code",
      "source": [
        "max(employeeid[1:])"
      ],
      "metadata": {
        "colab": {
          "base_uri": "https://localhost:8080/",
          "height": 35
        },
        "id": "6EunF3ngRhqr",
        "outputId": "2ec49932-72d6-4ee2-a082-4316b3e0e443"
      },
      "execution_count": null,
      "outputs": [
        {
          "output_type": "execute_result",
          "data": {
            "text/plain": [
              "'201'"
            ],
            "application/vnd.google.colaboratory.intrinsic+json": {
              "type": "string"
            }
          },
          "metadata": {},
          "execution_count": 6
        }
      ]
    },
    {
      "cell_type": "code",
      "source": [
        "min(employeeid[1:])"
      ],
      "metadata": {
        "colab": {
          "base_uri": "https://localhost:8080/",
          "height": 35
        },
        "id": "zHYJV_OmRqym",
        "outputId": "e20670b6-e75b-48ff-bc36-4df5dcd7b5e0"
      },
      "execution_count": null,
      "outputs": [
        {
          "output_type": "execute_result",
          "data": {
            "text/plain": [
              "'198'"
            ],
            "application/vnd.google.colaboratory.intrinsic+json": {
              "type": "string"
            }
          },
          "metadata": {},
          "execution_count": 7
        }
      ]
    },
    {
      "cell_type": "code",
      "source": [
        "np.count_nonzero(j==\"ST_CLERK\")"
      ],
      "metadata": {
        "colab": {
          "base_uri": "https://localhost:8080/",
          "height": 169
        },
        "id": "d6QGlUEKYHA8",
        "outputId": "37efc3ee-5446-47f5-f760-35decc1c7c75"
      },
      "execution_count": null,
      "outputs": [
        {
          "output_type": "error",
          "ename": "NameError",
          "evalue": "ignored",
          "traceback": [
            "\u001b[0;31m---------------------------------------------------------------------------\u001b[0m",
            "\u001b[0;31mNameError\u001b[0m                                 Traceback (most recent call last)",
            "\u001b[0;32m<ipython-input-13-451ac8ba959b>\u001b[0m in \u001b[0;36m<cell line: 1>\u001b[0;34m()\u001b[0m\n\u001b[0;32m----> 1\u001b[0;31m \u001b[0mnp\u001b[0m\u001b[0;34m.\u001b[0m\u001b[0mcount_nonzero\u001b[0m\u001b[0;34m(\u001b[0m\u001b[0mj\u001b[0m\u001b[0;34m==\u001b[0m\u001b[0;34m\"ST_CLERK\"\u001b[0m\u001b[0;34m)\u001b[0m\u001b[0;34m\u001b[0m\u001b[0;34m\u001b[0m\u001b[0m\n\u001b[0m",
            "\u001b[0;31mNameError\u001b[0m: name 'j' is not defined"
          ]
        }
      ]
    },
    {
      "cell_type": "code",
      "source": [],
      "metadata": {
        "id": "dTpqfIVqaCuD"
      },
      "execution_count": null,
      "outputs": []
    }
  ]
}