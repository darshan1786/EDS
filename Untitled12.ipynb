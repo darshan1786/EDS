{
  "nbformat": 4,
  "nbformat_minor": 0,
  "metadata": {
    "colab": {
      "provenance": []
    },
    "kernelspec": {
      "name": "python3",
      "display_name": "Python 3"
    },
    "language_info": {
      "name": "python"
    }
  },
  "cells": [
    {
      "cell_type": "code",
      "execution_count": null,
      "metadata": {
        "colab": {
          "base_uri": "https://localhost:8080/",
          "height": 130
        },
        "id": "gwat_cnyYE06",
        "outputId": "f463b703-f207-46a7-9b69-188bf4535bdf"
      },
      "outputs": [
        {
          "output_type": "error",
          "ename": "IndentationError",
          "evalue": "ignored",
          "traceback": [
            "\u001b[0;36m  File \u001b[0;32m\"<ipython-input-3-8f35497c1c46>\"\u001b[0;36m, line \u001b[0;32m12\u001b[0m\n\u001b[0;31m    data3.append(data1[i]+data2[i])\u001b[0m\n\u001b[0m    ^\u001b[0m\n\u001b[0;31mIndentationError\u001b[0m\u001b[0;31m:\u001b[0m expected an indented block after 'for' statement on line 11\n"
          ]
        }
      ],
      "source": [
        "import csv\n",
        "f1=open('/content/emp.csv.csv','r')\n",
        "f2=open('/content/Employee.csv','r')\n",
        "f3=open('/content/empsal.csv','w')\n",
        "data1=list(csv.reader(f1, delimiter=\",\"))\n",
        "data2=list(csv.reader(f2, delimiter=\",\"))\n",
        "print('The student Record is ',data1)\n",
        "print('\\nPlacement company of sudents are ',data2)\n",
        "#merging of two files\n",
        "data3=[]\n",
        "for i in range(len(data2)):\n",
        "data3.append(data1[i]+data2[i])\n",
        "cf3=csv.writer(f3)\n",
        "print('\\nThe merged file is data is ',data3)\n",
        "#find max, min, avg salary\n",
        "sal=[]\n",
        "for i in range(1,len(data1)):\n",
        "sal.append(int(data1[i][5]))\n",
        "print('The placement salary data is ')\n",
        "for i in sal:\n",
        "print(i)\n",
        "sum=0\n",
        "for i in sal:\n",
        "sum=sum+i\n",
        "print('The the average salary is',sum/len(sal))\n",
        "print('The the max salary is',max(sal))\n",
        "print('The the min salary is',min(sal))\n",
        "#top 5 records\n",
        "def top5std(data3):\n",
        "data3.sort(key=lambda x: (x[5]), reverse=True)\n",
        "print(\"\\nTop 5 placements are:-\")\n",
        "for i in range(5):\n",
        "print(data3[i+1])\n",
        "top5std(data3)\n",
        "#find age by the given birthdate\n",
        "from datetime import date\n",
        "from datetime import datetime\n",
        "def calculateage(d):\n",
        "today=date.today()\n",
        "print('/nThe date is ',today)\n",
        "t=datetime.strptime(d,'%d/%m/%Y')\n",
        "age=today.year-t.year\n",
        "if(today.month,today.day)<(t.month,t.day):\n",
        "age=age-1\n",
        "return(age)\n",
        "bdate=[]\n",
        "age=[]\n",
        "for i in range(1,len(data2)):\n",
        "print(data2[i][1])\n",
        "bdate.append(data2[i][1])\n",
        "for i in range(len(bdate)):\n",
        "print(data2[i][1])\n",
        "age.append(calculateage(bdate[i]))\n",
        "print('The age of student is',age)\n",
        "f1.close()\n",
        "f2.close()\n",
        "f3.close()"
      ]
    },
    {
      "cell_type": "code",
      "source": [],
      "metadata": {
        "id": "AumxAVgEeJkR"
      },
      "execution_count": null,
      "outputs": []
    }
  ]
}