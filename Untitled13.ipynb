{
  "nbformat": 4,
  "nbformat_minor": 0,
  "metadata": {
    "colab": {
      "provenance": []
    },
    "kernelspec": {
      "name": "python3",
      "display_name": "Python 3"
    },
    "language_info": {
      "name": "python"
    }
  },
  "cells": [
    {
      "cell_type": "code",
      "execution_count": null,
      "metadata": {
        "colab": {
          "base_uri": "https://localhost:8080/"
        },
        "id": "4kIpbn_dfIA4",
        "outputId": "bcc0a31c-4f29-4f64-e277-6b5e85265b6b"
      },
      "outputs": [
        {
          "output_type": "stream",
          "name": "stdout",
          "text": [
            "     Name Division  Roll No  Gender\n",
            "0  Vishal        A      201    Male\n",
            "1  Sanket        B      301    Male\n",
            "2   Rahul        A      401    Male\n",
            "3    Isha        B      501  Female\n",
            "4   Sumit        A      601    Male\n",
            "5   Rohit        B      701    Male\n",
            "     Name Division  Roll No  Gender\n",
            "0  Vishal        A      201    Male\n",
            "1  Sanket        B      301    Male\n",
            "2   Rahul        A      401    Male\n",
            "3    Isha        B      501  Female\n",
            "4   Sumit        A      601    Male\n",
            "5   Rohit        B      701    Male\n"
          ]
        }
      ],
      "source": [
        "import pandas as pd\n",
        "df=pd.read_csv('/content/divi.csv')\n",
        "print(df)\n",
        "pd=pd.read_csv('/content/DARSHANLIST01.csv')\n",
        "print(df)"
      ]
    },
    {
      "cell_type": "code",
      "source": [
        "def calculate_grade(marks):\n",
        "  average =sum(marks)/len(marks)\n",
        "  if average >=90:\n",
        "    return 'A'\n",
        "   elif average >=80:\n",
        "    return'B'\n",
        "    else:\n",
        "      return'c'\n"
      ],
      "metadata": {
        "colab": {
          "base_uri": "https://localhost:8080/",
          "height": 130
        },
        "id": "Nk_GVd8U0Uz9",
        "outputId": "0d929f94-2c7c-451c-d143-922bd51ed198"
      },
      "execution_count": null,
      "outputs": [
        {
          "output_type": "error",
          "ename": "IndentationError",
          "evalue": "ignored",
          "traceback": [
            "\u001b[0;36m  File \u001b[0;32m\"<tokenize>\"\u001b[0;36m, line \u001b[0;32m5\u001b[0m\n\u001b[0;31m    elif average >=80:\u001b[0m\n\u001b[0m    ^\u001b[0m\n\u001b[0;31mIndentationError\u001b[0m\u001b[0;31m:\u001b[0m unindent does not match any outer indentation level\n"
          ]
        }
      ]
    }
  ]
}