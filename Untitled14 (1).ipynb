{
  "nbformat": 4,
  "nbformat_minor": 0,
  "metadata": {
    "colab": {
      "provenance": []
    },
    "kernelspec": {
      "name": "python3",
      "display_name": "Python 3"
    },
    "language_info": {
      "name": "python"
    }
  },
  "cells": [
    {
      "cell_type": "code",
      "execution_count": null,
      "metadata": {
        "colab": {
          "base_uri": "https://localhost:8080/"
        },
        "id": "fNdMWOZQsh-w",
        "outputId": "2be508d5-ee65-4321-af54-8b19ff33e318"
      },
      "outputs": [
        {
          "output_type": "execute_result",
          "data": {
            "text/plain": [
              "array([['1001', 'John', 'Smith', '01-01-2015', 'IT', 'Developer'],\n",
              "       ['1002', 'Jane', 'Doe', '2/15/2016', 'HR', 'Manager'],\n",
              "       ['1003', 'Bob', 'Johnson', '5/20/2017', 'Sales', 'Salesperson'],\n",
              "       ['1004', 'Emily', 'Wong', '09-10-2018', 'IT', 'Analyst'],\n",
              "       ['1005', 'Jack', 'Lee', '12-01-2019', 'Marketing', 'Marketer']],\n",
              "      dtype='<U11')"
            ]
          },
          "metadata": {},
          "execution_count": 14
        }
      ],
      "source": [
        "import numpy as np\n",
        "arr1=np.genfromtxt(\"/content/Employee (3).csv\",delimiter=',',dtype=str,skip_header=1)\n",
        "arr1\n"
      ]
    },
    {
      "cell_type": "code",
      "source": [
        "type(arr1)"
      ],
      "metadata": {
        "colab": {
          "base_uri": "https://localhost:8080/"
        },
        "id": "TukyEQ01yA1d",
        "outputId": "dfadb6ab-42ed-41a9-f832-3ae6898e862d"
      },
      "execution_count": null,
      "outputs": [
        {
          "output_type": "execute_result",
          "data": {
            "text/plain": [
              "numpy.ndarray"
            ]
          },
          "metadata": {},
          "execution_count": 15
        }
      ]
    },
    {
      "cell_type": "code",
      "source": [
        "print(arr1[:,0])"
      ],
      "metadata": {
        "colab": {
          "base_uri": "https://localhost:8080/"
        },
        "id": "UTHv8ZdfydKo",
        "outputId": "fd0813b4-7ea7-4657-e3d5-7c5abc2fa01b"
      },
      "execution_count": null,
      "outputs": [
        {
          "output_type": "stream",
          "name": "stdout",
          "text": [
            "['1001' '1002' '1003' '1004' '1005']\n"
          ]
        }
      ]
    }
  ]
}