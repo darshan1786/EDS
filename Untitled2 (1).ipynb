{
  "nbformat": 4,
  "nbformat_minor": 0,
  "metadata": {
    "colab": {
      "provenance": []
    },
    "kernelspec": {
      "name": "python3",
      "display_name": "Python 3"
    },
    "language_info": {
      "name": "python"
    }
  },
  "cells": [
    {
      "cell_type": "code",
      "execution_count": null,
      "metadata": {
        "colab": {
          "base_uri": "https://localhost:8080/"
        },
        "id": "j8WPs6dwYYf-",
        "outputId": "30271c61-9899-4312-e30d-5f2ba2c48019"
      },
      "outputs": [
        {
          "output_type": "stream",
          "name": "stdout",
          "text": [
            "a as int :  25\n",
            "b as long :  548873\n",
            "c as float :  14.25\n",
            "d as complex :  3.14j\n"
          ]
        }
      ],
      "source": [
        "#Python data types\n",
        "#Numbers\n",
        "a=25\n",
        "print(\"a as int : \",a)\n",
        "b=548873\n",
        "print(\"b as long : \",b)\n",
        "c=14.25\n",
        "print(\"c as float : \",c)\n",
        "d=3.14j\n",
        "print(\"d as complex : \",d)"
      ]
    },
    {
      "cell_type": "code",
      "source": [
        "#string\n",
        "str1 = \"welcome to python\"\n",
        "print(str1)"
      ],
      "metadata": {
        "colab": {
          "base_uri": "https://localhost:8080/"
        },
        "id": "12BDmtOtZ2Hy",
        "outputId": "b8cc50c3-a42c-4eec-ad4b-97b333d8db18"
      },
      "execution_count": null,
      "outputs": [
        {
          "output_type": "stream",
          "name": "stdout",
          "text": [
            "welcome to python\n"
          ]
        }
      ]
    },
    {
      "cell_type": "code",
      "source": [
        "#list\n",
        "l1 = [15,25.6,\"python\"]\n",
        "print(l1)"
      ],
      "metadata": {
        "colab": {
          "base_uri": "https://localhost:8080/"
        },
        "id": "WFTUpPx4aEH3",
        "outputId": "be2c3b2c-6a4e-4bf6-88f4-663a3d5e50ae"
      },
      "execution_count": null,
      "outputs": [
        {
          "output_type": "stream",
          "name": "stdout",
          "text": [
            "[15, 25.6, 'python']\n"
          ]
        }
      ]
    },
    {
      "cell_type": "code",
      "source": [
        "#Tuple\n",
        "t1 = (21,\"python\",21.45)\n",
        "print(t1)"
      ],
      "metadata": {
        "colab": {
          "base_uri": "https://localhost:8080/"
        },
        "id": "pva57W8vaRzg",
        "outputId": "ae234469-8f09-4f6d-eb10-db8162db7207"
      },
      "execution_count": null,
      "outputs": [
        {
          "output_type": "stream",
          "name": "stdout",
          "text": [
            "(21, 'python', 21.45)\n"
          ]
        }
      ]
    },
    {
      "cell_type": "code",
      "source": [
        "#dictionary\n",
        "d1 = {\"Aradhana\" : 21, \"Prarthana\" : 100, \"Rugved\" : 23}\n",
        "print(d1)"
      ],
      "metadata": {
        "colab": {
          "base_uri": "https://localhost:8080/"
        },
        "id": "nTDbfAPSak5z",
        "outputId": "d2f2a43b-4ec3-4a8c-9474-8bd9200c4734"
      },
      "execution_count": null,
      "outputs": [
        {
          "output_type": "stream",
          "name": "stdout",
          "text": [
            "{'Aradhana': 21, 'Prarthana': 100, 'Rugved': 23}\n"
          ]
        }
      ]
    },
    {
      "cell_type": "code",
      "source": [
        "#Decision making statements\n",
        "#if statement\n",
        "n1 = int(input())\n",
        "n2 = int(input())\n",
        "n3 = int(input())\n",
        "if n1>n2 and n1>n3 :\n",
        "  print(n1,\"is largest\")\n",
        "if n2>n3 and n2>n3 :\n",
        "  print(n2,\"is largest\")\n",
        "if n3>n1 and n3>n2 :\n",
        "  print(n3,\"is largest\")"
      ],
      "metadata": {
        "colab": {
          "base_uri": "https://localhost:8080/"
        },
        "id": "PXTD84mjbfSY",
        "outputId": "ff99d402-e234-46b5-fc04-1a36a17ee09d"
      },
      "execution_count": null,
      "outputs": [
        {
          "output_type": "stream",
          "name": "stdout",
          "text": [
            "23\n",
            "44\n",
            "56\n",
            "56 is largest\n"
          ]
        }
      ]
    },
    {
      "cell_type": "code",
      "source": [
        "#if-else statement\n",
        "print(\"enter a number\")\n",
        "num = int(input())\n",
        "if num%2==0 :\n",
        "  print(num,\"is even\")\n",
        "else :\n",
        "  print(num,\"is odd\")"
      ],
      "metadata": {
        "colab": {
          "base_uri": "https://localhost:8080/"
        },
        "id": "_qygDEv5f_Gs",
        "outputId": "a99b90ab-8aa6-4cf4-97de-cdce239647a7"
      },
      "execution_count": null,
      "outputs": [
        {
          "output_type": "stream",
          "name": "stdout",
          "text": [
            "enter a number\n",
            "57\n",
            "57 is odd\n"
          ]
        }
      ]
    },
    {
      "cell_type": "code",
      "source": [
        "#nested if else\n",
        "n1 = int(input())\n",
        "n2 = int(input())\n",
        "n3 = int(input())\n",
        "if n1>n2:\n",
        "  if n1>n3:\n",
        "    print(n1,\"is largest\")\n",
        "if n2>n1:\n",
        "  if n2>n3:\n",
        "    print(n2,\"is largest\")\n",
        "if n3>n1:\n",
        "  if n3>n2:\n",
        "    print(n3,\"is largest\")\n",
        "\n",
        ""
      ],
      "metadata": {
        "colab": {
          "base_uri": "https://localhost:8080/"
        },
        "id": "Tue8X7IBhsxY",
        "outputId": "87e357f4-446b-489c-df3f-74a164a2ccd8"
      },
      "execution_count": null,
      "outputs": [
        {
          "output_type": "stream",
          "name": "stdout",
          "text": [
            "23\n",
            "45\n",
            "12\n",
            "45 is largest\n"
          ]
        }
      ]
    },
    {
      "cell_type": "code",
      "source": [
        "#short hand if-else\n",
        "print(\"enter any number\")\n",
        "num = int(input())\n",
        "print(num,\"is even\") if num%2==0 else print(num,\"is odd\")"
      ],
      "metadata": {
        "colab": {
          "base_uri": "https://localhost:8080/"
        },
        "id": "PTapa-Q2jR6Y",
        "outputId": "6d1a5faf-ea63-4820-f7bd-c98f9ba04668"
      },
      "execution_count": null,
      "outputs": [
        {
          "output_type": "stream",
          "name": "stdout",
          "text": [
            "enter any number\n",
            "64\n",
            "64 is even\n"
          ]
        }
      ]
    },
    {
      "cell_type": "code",
      "source": [
        "#elif\n",
        "weather = input(\"what is the weather today?\")\n",
        "if weather == \"Sunny\":\n",
        "  print(\"It is great day to go for picnic!\")\n",
        "elif weather == \"Rainy\":\n",
        "  print(\"remember to bring an umbrella!\")\n",
        "elif weather == \"Cloudy\":\n",
        "  print(\"Don't forget to bring a jacket in case it rain\")\n",
        "else:\n",
        "  print(\"sorry! I don't understand that weather condition\")"
      ],
      "metadata": {
        "colab": {
          "base_uri": "https://localhost:8080/"
        },
        "id": "KNWIi2B0kbER",
        "outputId": "5a24b822-eefa-4a04-f608-59eee0947df3"
      },
      "execution_count": null,
      "outputs": [
        {
          "output_type": "stream",
          "name": "stdout",
          "text": [
            "what is the weather today?Cloudy\n",
            "Don't forget to bring a jacket in case it rain\n"
          ]
        }
      ]
    },
    {
      "cell_type": "code",
      "source": [
        "#append\n",
        "l1 = [10,20,\"Python\",94.2,314]\n",
        "l1.append(21)\n",
        "print(l1)"
      ],
      "metadata": {
        "colab": {
          "base_uri": "https://localhost:8080/"
        },
        "id": "TIth_F-FnlUD",
        "outputId": "ecb12748-d9ca-444f-c9b4-efa6eaa61bb3"
      },
      "execution_count": null,
      "outputs": [
        {
          "output_type": "stream",
          "name": "stdout",
          "text": [
            "[10, 20, 'Python', 94.2, 314, 21]\n"
          ]
        }
      ]
    },
    {
      "cell_type": "code",
      "source": [
        "#insert\n",
        "l1 = [\"python\",\"java\",\"essential of data science\"]\n",
        "print(l1)\n",
        "l1.insert(2,\"hadoop\")\n",
        "print(l1)"
      ],
      "metadata": {
        "colab": {
          "base_uri": "https://localhost:8080/"
        },
        "id": "hEGBkRMpoucw",
        "outputId": "c985c0a4-9335-4824-ed8c-7b89565c0621"
      },
      "execution_count": null,
      "outputs": [
        {
          "output_type": "stream",
          "name": "stdout",
          "text": [
            "['python', 'java', 'essential of data science']\n",
            "['python', 'java', 'hadoop', 'essential of data science']\n"
          ]
        }
      ]
    },
    {
      "cell_type": "code",
      "source": [
        "#extend\n",
        "l1 = [10,20,30]\n",
        "l2 = [15,35,45,55]\n",
        "l1.extend(l2)\n",
        "print(l1)"
      ],
      "metadata": {
        "colab": {
          "base_uri": "https://localhost:8080/"
        },
        "id": "f8jIrR_6potK",
        "outputId": "0ee0032a-8a03-44f9-cb40-6892d0a8cc89"
      },
      "execution_count": null,
      "outputs": [
        {
          "output_type": "stream",
          "name": "stdout",
          "text": [
            "[10, 20, 30, 15, 35, 45, 55]\n"
          ]
        }
      ]
    },
    {
      "cell_type": "code",
      "source": [
        "#statistics\n",
        "import statistics\n",
        "l1 = [1,3,4,5,6,6,6,6]\n",
        "print(statistics.mean(l1))\n"
      ],
      "metadata": {
        "colab": {
          "base_uri": "https://localhost:8080/"
        },
        "id": "fVmNPCQ4smbf",
        "outputId": "bacaf640-0fcb-4948-fadd-1bcf155daefd"
      },
      "execution_count": null,
      "outputs": [
        {
          "output_type": "stream",
          "name": "stdout",
          "text": [
            "4.625\n"
          ]
        }
      ]
    },
    {
      "cell_type": "code",
      "source": [
        "#median\n",
        "from statistics import median\n",
        "t1 = (21,23,45,67)\n",
        "print(median(t1))"
      ],
      "metadata": {
        "colab": {
          "base_uri": "https://localhost:8080/"
        },
        "id": "mMw4y5Uex6Ft",
        "outputId": "cc76f4d0-c84f-47f9-c829-d379876b6b1d"
      },
      "execution_count": null,
      "outputs": [
        {
          "output_type": "stream",
          "name": "stdout",
          "text": [
            "34.0\n"
          ]
        }
      ]
    },
    {
      "cell_type": "code",
      "source": [
        "#The median_low\n",
        "import statistics\n",
        "set1 = [1,2,3,4,5]\n",
        "print(\"low median of the set is\",(statistics.median_low(set1)))"
      ],
      "metadata": {
        "colab": {
          "base_uri": "https://localhost:8080/"
        },
        "id": "WAfX3O_EyVjt",
        "outputId": "4530765e-e2a0-438f-a792-da1a83644258"
      },
      "execution_count": null,
      "outputs": [
        {
          "output_type": "stream",
          "name": "stdout",
          "text": [
            "low median of the set is 3\n"
          ]
        }
      ]
    },
    {
      "cell_type": "code",
      "source": [
        "#The median_high\n",
        "import statistics\n",
        "set1 = [1,3,3,4,5]\n",
        "print(\"High median of the set is\",(statistics.median_high(set1)))"
      ],
      "metadata": {
        "colab": {
          "base_uri": "https://localhost:8080/"
        },
        "id": "OrTDjWjIzOJE",
        "outputId": "5d63fd28-e29c-4057-b258-8ddb0c3cd89d"
      },
      "execution_count": null,
      "outputs": [
        {
          "output_type": "stream",
          "name": "stdout",
          "text": [
            "High median of the set is 3\n"
          ]
        }
      ]
    },
    {
      "cell_type": "code",
      "source": [
        "#mode\n",
        "from statistics import mode\n",
        "t1 = (6,6,6,5,5,4,4,3,3,2,3,2,1,3)\n",
        "print(\"mode of data set is\",(mode(t1)))"
      ],
      "metadata": {
        "colab": {
          "base_uri": "https://localhost:8080/"
        },
        "id": "p2wzQoZL0ADs",
        "outputId": "3d007fd1-287d-40ca-9978-c4c1f7581769"
      },
      "execution_count": null,
      "outputs": [
        {
          "output_type": "stream",
          "name": "stdout",
          "text": [
            "mode of data set is 3\n"
          ]
        }
      ]
    },
    {
      "cell_type": "code",
      "source": [
        "#Range = largest data value-smallest data Value\n",
        "arr = [1,2,3,4,5]\n",
        "maximum = max(arr)\n",
        "minimum = min(arr)\n",
        "range = maximum-minimum\n",
        "print(\"maximum={}, minimum={}, and range={}\".format(maximum,minimum,range))"
      ],
      "metadata": {
        "id": "P5Sk2jA70eJs",
        "colab": {
          "base_uri": "https://localhost:8080/"
        },
        "outputId": "5854e740-91cb-4fa2-f9a8-61488ccf3c3f"
      },
      "execution_count": null,
      "outputs": [
        {
          "output_type": "stream",
          "name": "stdout",
          "text": [
            "maximum=5, minimum=1, and range=4\n"
          ]
        }
      ]
    },
    {
      "cell_type": "code",
      "source": [
        "#variance\n",
        "from statistics import variance\n",
        "t1=(1,2,5,4,8,9,12)\n",
        "print(\"variance of sampel is s\",(variance(t1)))"
      ],
      "metadata": {
        "colab": {
          "base_uri": "https://localhost:8080/"
        },
        "id": "apIbMyL3HQx8",
        "outputId": "d553c4b1-ceff-40eb-ae20-1f37d4730802"
      },
      "execution_count": null,
      "outputs": [
        {
          "output_type": "stream",
          "name": "stdout",
          "text": [
            "variance of sampel is s 15.80952380952381\n"
          ]
        }
      ]
    },
    {
      "cell_type": "code",
      "source": [
        "#standard deviation\n",
        "from statistics import stdev\n",
        "s1=(1,2,3,5,7,8,12)\n",
        "print(\"the standard deviation of sampel is s\",(stdev(s1)))"
      ],
      "metadata": {
        "colab": {
          "base_uri": "https://localhost:8080/"
        },
        "id": "egyMapJDHpI0",
        "outputId": "c35ef8fb-b337-4111-897f-6bbb0a5e8f76"
      },
      "execution_count": null,
      "outputs": [
        {
          "output_type": "stream",
          "name": "stdout",
          "text": [
            "the standard deviation of sampel is s 3.866830866792722\n"
          ]
        }
      ]
    },
    {
      "cell_type": "code",
      "source": [
        "#loop manipulation\n",
        "i=1\n",
        "while i<10:\n",
        "  print(\"welcome\")\n",
        "  i=i+1"
      ],
      "metadata": {
        "colab": {
          "base_uri": "https://localhost:8080/"
        },
        "id": "SW40dT4dIHKu",
        "outputId": "dd1394b7-5d14-4cdb-f860-1fe67499381e"
      },
      "execution_count": null,
      "outputs": [
        {
          "output_type": "stream",
          "name": "stdout",
          "text": [
            "welcome\n",
            "welcome\n",
            "welcome\n",
            "welcome\n",
            "welcome\n",
            "welcome\n",
            "welcome\n",
            "welcome\n",
            "welcome\n"
          ]
        }
      ]
    },
    {
      "cell_type": "code",
      "source": [
        "print(\"enter a value\")\n",
        "num=int(input())\n",
        "sum=0\n",
        "i=1\n",
        "while i<=num:\n",
        "  sum=sum+i\n",
        "  i=i+1\n",
        "  print(\"sum\",sum)"
      ],
      "metadata": {
        "colab": {
          "base_uri": "https://localhost:8080/"
        },
        "id": "9OdhfhwTIdxf",
        "outputId": "3d87a960-4ecd-4cb2-e0b5-1080b6aa73a0"
      },
      "execution_count": null,
      "outputs": [
        {
          "output_type": "stream",
          "name": "stdout",
          "text": [
            "enter a value\n",
            "5\n",
            "sum 1\n",
            "sum 3\n",
            "sum 6\n",
            "sum 10\n",
            "sum 15\n"
          ]
        }
      ]
    },
    {
      "cell_type": "code",
      "source": [
        "#for loop\n",
        "l1=[\"C++\",\"java\",\"python\"]\n",
        "for i in l1:\n",
        "  print(\"loop refers to book\",i)"
      ],
      "metadata": {
        "colab": {
          "base_uri": "https://localhost:8080/"
        },
        "id": "nFTlJKuMJ9sm",
        "outputId": "66c7ba2d-1769-49df-cb24-3c4ece45b48d"
      },
      "execution_count": null,
      "outputs": [
        {
          "output_type": "stream",
          "name": "stdout",
          "text": [
            "loop refers to book C++\n",
            "loop refers to book java\n",
            "loop refers to book python\n"
          ]
        }
      ]
    },
    {
      "cell_type": "code",
      "source": [
        "#function\n",
        "#1\n",
        "def sayHello():\n",
        "  print(\"welcome to python\")\n",
        "sayHello()"
      ],
      "metadata": {
        "colab": {
          "base_uri": "https://localhost:8080/"
        },
        "id": "LFS1tjWlKdGS",
        "outputId": "8c334510-d349-4ce3-be5c-76cb94b6ff3f"
      },
      "execution_count": null,
      "outputs": [
        {
          "output_type": "stream",
          "name": "stdout",
          "text": [
            "welcome to python\n"
          ]
        }
      ]
    },
    {
      "cell_type": "code",
      "source": [
        "#2\n",
        "def even():\n",
        "  print(\"enter a number : \")\n",
        "  num = int(input())\n",
        "  if num%2==0:\n",
        "    print(\"number is even:\",num)\n",
        "  else:\n",
        "    print(\"number is odd:\",num)\n",
        "even()\n"
      ],
      "metadata": {
        "colab": {
          "base_uri": "https://localhost:8080/"
        },
        "id": "OIVK3cSwK5Qm",
        "outputId": "3a08073c-f5ba-4f1c-c700-7db662eb8aa6"
      },
      "execution_count": null,
      "outputs": [
        {
          "output_type": "stream",
          "name": "stdout",
          "text": [
            "enter a number : \n",
            "4\n",
            "number is even: 4\n"
          ]
        }
      ]
    },
    {
      "cell_type": "code",
      "source": [
        "#3\n",
        "def sum():\n",
        "  a=5\n",
        "  b=7\n",
        "  sum=a+b\n",
        "  print(\"sum=\",sum)\n",
        "sum()"
      ],
      "metadata": {
        "colab": {
          "base_uri": "https://localhost:8080/"
        },
        "id": "SJCaD03DLkSc",
        "outputId": "7a455ccb-dc1c-42b1-f3d9-70d73d5dcee4"
      },
      "execution_count": null,
      "outputs": [
        {
          "output_type": "stream",
          "name": "stdout",
          "text": [
            "sum= 12\n"
          ]
        }
      ]
    },
    {
      "cell_type": "code",
      "source": [
        "#4\n",
        "def Loopoffruits():\n",
        "  fruits = [\"watermelon\",\"pineapple\",\"Cherry\"]\n",
        "  for i in fruits:\n",
        "    print(i,\"it is an fruits name\")\n",
        "Loopoffruits()"
      ],
      "metadata": {
        "colab": {
          "base_uri": "https://localhost:8080/"
        },
        "id": "JkjFZ0RuMBdN",
        "outputId": "87ea518e-a3f2-42e4-d762-1ea4bed197e1"
      },
      "execution_count": null,
      "outputs": [
        {
          "output_type": "stream",
          "name": "stdout",
          "text": [
            "watermelon it is an fruits name\n",
            "pineapple it is an fruits name\n",
            "Cherry it is an fruits name\n"
          ]
        }
      ]
    },
    {
      "cell_type": "code",
      "source": [
        "#datatype and object related function\n",
        "a=10\n",
        "b=True\n",
        "c=16.55\n",
        "d=[10,20,30]\n",
        "print(type(a))\n",
        "print(type(b))\n",
        "print(type(c))\n",
        "print(type(d))\n",
        "print(abs(15))"
      ],
      "metadata": {
        "colab": {
          "base_uri": "https://localhost:8080/"
        },
        "id": "NtUFziVDM-5k",
        "outputId": "c407e6dc-46c5-45d7-dfdf-216c133ddefd"
      },
      "execution_count": null,
      "outputs": [
        {
          "output_type": "stream",
          "name": "stdout",
          "text": [
            "<class 'int'>\n",
            "<class 'bool'>\n",
            "<class 'float'>\n",
            "<class 'list'>\n",
            "15\n"
          ]
        }
      ]
    },
    {
      "cell_type": "code",
      "source": [
        "#all\n",
        "l1=[\"\",\"\",\"\"]\n",
        "l2=[\"a\",\"\",\"\"]\n",
        "l3=[True,True]\n",
        "l4=[True,False]\n",
        "l5=[False,False]\n",
        "a=all(l1)\n",
        "b=all(l2)\n",
        "c=all(l3)\n",
        "d=all(l4)\n",
        "e=all(l5)\n",
        "print(a)\n",
        "print(b)\n",
        "print(c)\n",
        "print(d)\n",
        "print(e)"
      ],
      "metadata": {
        "colab": {
          "base_uri": "https://localhost:8080/"
        },
        "id": "Mugui5PkOikq",
        "outputId": "f0515c8b-ea28-42c0-f5b1-0ccccdc69c67"
      },
      "execution_count": null,
      "outputs": [
        {
          "output_type": "stream",
          "name": "stdout",
          "text": [
            "False\n",
            "False\n",
            "True\n",
            "False\n",
            "False\n"
          ]
        }
      ]
    },
    {
      "cell_type": "code",
      "source": [
        "#any\n",
        "#1\n",
        "def Bill():\n",
        "  p1 = int(input())\n",
        "  p2 = int(input())\n",
        "  p3 = int(input())\n",
        "  p4 = int(input())\n",
        "  sum = p1+p2+p3+p4\n",
        "  print(\"The total price of all products = \",sum)\n",
        "Bill()"
      ],
      "metadata": {
        "colab": {
          "base_uri": "https://localhost:8080/"
        },
        "id": "os4DPpiJQJwI",
        "outputId": "f47c7112-f48a-47e2-a54d-557b87d0f50b"
      },
      "execution_count": null,
      "outputs": [
        {
          "output_type": "stream",
          "name": "stdout",
          "text": [
            "3\n",
            "4\n",
            "5\n",
            "6\n",
            "The total price of all products =  18\n"
          ]
        }
      ]
    },
    {
      "cell_type": "code",
      "source": [],
      "metadata": {
        "id": "8FoKJiScQsxw"
      },
      "execution_count": null,
      "outputs": []
    }
  ]
}