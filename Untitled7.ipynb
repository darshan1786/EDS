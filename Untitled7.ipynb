{
  "nbformat": 4,
  "nbformat_minor": 0,
  "metadata": {
    "colab": {
      "provenance": []
    },
    "kernelspec": {
      "name": "python3",
      "display_name": "Python 3"
    },
    "language_info": {
      "name": "python"
    }
  },
  "cells": [
    {
      "cell_type": "markdown",
      "source": [],
      "metadata": {
        "id": "fav0tMZEski2"
      }
    },
    {
      "cell_type": "code",
      "source": [
        "frequency = {}\n",
        "#product_details\n",
        "for item in product_details:\n",
        "    if item in frequency:\n",
        "            frequency[item]= frequency[item]+1\n",
        "    else:\n",
        "         frequency[item] = 1\n",
        "    marklist = sorted(frequency.items(), keys=lambda x:x[1],reverse=True)\n",
        "    sortdict = dict(marklist)"
      ],
      "metadata": {
        "id": "73liUj8Psk6t"
      },
      "execution_count": null,
      "outputs": []
    }
  ]
}