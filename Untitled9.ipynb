{
  "nbformat": 4,
  "nbformat_minor": 0,
  "metadata": {
    "colab": {
      "provenance": []
    },
    "kernelspec": {
      "name": "python3",
      "display_name": "Python 3"
    },
    "language_info": {
      "name": "python"
    }
  },
  "cells": [
    {
      "cell_type": "code",
      "execution_count": null,
      "metadata": {
        "colab": {
          "base_uri": "https://localhost:8080/"
        },
        "id": "a2mQbezDkLvk",
        "outputId": "8a63a0eb-9c7d-4f17-f251-13fba3e4a2d3"
      },
      "outputs": [
        {
          "output_type": "stream",
          "name": "stdout",
          "text": [
            "4\n"
          ]
        }
      ],
      "source": [
        "import numpy as np\n",
        "arr=np.array([[10,20,30],[4,4,5]]);\n",
        "print(arr[-1,-2])"
      ]
    },
    {
      "cell_type": "markdown",
      "source": [],
      "metadata": {
        "id": "x6J9GWe1m1DE"
      }
    },
    {
      "cell_type": "code",
      "source": [
        "#slicing\n",
        "import numpy as np\n",
        "brr=np.array([10,20,30,40,50]);\n",
        "print(brr[1:2])"
      ],
      "metadata": {
        "colab": {
          "base_uri": "https://localhost:8080/"
        },
        "id": "U_oNUJhbm1lT",
        "outputId": "f5091036-a1db-4a1a-b71a-ce793073356f"
      },
      "execution_count": null,
      "outputs": [
        {
          "output_type": "stream",
          "name": "stdout",
          "text": [
            "[20]\n"
          ]
        }
      ]
    },
    {
      "cell_type": "code",
      "source": [
        "x=[4]\n",
        "y=[1,2]\n",
        "#print(np.add(x,y))\n",
        "print"
      ],
      "metadata": {
        "colab": {
          "base_uri": "https://localhost:8080/"
        },
        "id": "2S-H_F3ZqYFo",
        "outputId": "f42e3978-9098-4f44-8fef-919c8cf83ff6"
      },
      "execution_count": null,
      "outputs": [
        {
          "output_type": "execute_result",
          "data": {
            "text/plain": [
              "<function print>"
            ]
          },
          "metadata": {},
          "execution_count": 10
        }
      ]
    },
    {
      "cell_type": "code",
      "source": [],
      "metadata": {
        "id": "8IOYU3jru9tj"
      },
      "execution_count": null,
      "outputs": []
    },
    {
      "cell_type": "code",
      "source": [
        "x= lambda arr,brr:arr+brr\n",
        "print(x)"
      ],
      "metadata": {
        "colab": {
          "base_uri": "https://localhost:8080/"
        },
        "id": "mAQPjqpgu96v",
        "outputId": "18a81f51-a32a-426b-9978-3fc06f1437ee"
      },
      "execution_count": null,
      "outputs": [
        {
          "output_type": "stream",
          "name": "stdout",
          "text": [
            "<function <lambda> at 0x7fa19d3cfe20>\n"
          ]
        }
      ]
    },
    {
      "cell_type": "code",
      "source": [
        "arr=[10,20,30]\n",
        "brr=[5,10,60]\n",
        "for i in range(0,3):\n",
        "  crr=arr[i]+brr[i]\n",
        "  print(crr)"
      ],
      "metadata": {
        "colab": {
          "base_uri": "https://localhost:8080/"
        },
        "id": "9JC-hAllwjQv",
        "outputId": "3deed191-d3e0-48aa-a05e-f02f37986494"
      },
      "execution_count": null,
      "outputs": [
        {
          "output_type": "stream",
          "name": "stdout",
          "text": [
            "15\n",
            "30\n",
            "90\n"
          ]
        }
      ]
    }
  ]
}