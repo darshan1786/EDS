{
  "nbformat": 4,
  "nbformat_minor": 0,
  "metadata": {
    "colab": {
      "provenance": []
    },
    "kernelspec": {
      "name": "python3",
      "display_name": "Python 3"
    },
    "language_info": {
      "name": "python"
    }
  },
  "cells": [
    {
      "cell_type": "code",
      "execution_count": null,
      "metadata": {
        "colab": {
          "base_uri": "https://localhost:8080/"
        },
        "id": "AtL9d4CR4qSo",
        "outputId": "72183396-25d9-4af2-ff88-9dfa91e95f05"
      },
      "outputs": [
        {
          "output_type": "stream",
          "name": "stdout",
          "text": [
            "   employee_id first_name last_name   hire_date department    job_title\n",
            "0         1001       John     Smith  01-01-2015         IT    Developer\n",
            "1         1002       Jane       Doe   2/15/2016         HR      Manager\n",
            "2         1003        Bob   Johnson   5/20/2017      Sales  Salesperson\n",
            "3         1004      Emily      Wong  09-10-2018         IT      Analyst\n",
            "4         1005       Jack       Lee  12-01-2019  Marketing     Marketer\n"
          ]
        }
      ],
      "source": [
        "import pandas as pd\n",
        "df=pd.read_csv('/content/Employee (3).csv')\n",
        "print(df)"
      ]
    },
    {
      "cell_type": "code",
      "source": [
        "df['employee_id']"
      ],
      "metadata": {
        "colab": {
          "base_uri": "https://localhost:8080/"
        },
        "id": "COgFM7YD8aEb",
        "outputId": "3b5f3210-4af2-47a6-b2e1-cc24f6dfd76b"
      },
      "execution_count": null,
      "outputs": [
        {
          "output_type": "execute_result",
          "data": {
            "text/plain": [
              "0    1001\n",
              "1    1002\n",
              "2    1003\n",
              "3    1004\n",
              "4    1005\n",
              "Name: employee_id, dtype: int64"
            ]
          },
          "metadata": {},
          "execution_count": 2
        }
      ]
    },
    {
      "cell_type": "code",
      "source": [
        "greater=df[df['employee_id'].ge(1000)]"
      ],
      "metadata": {
        "id": "SXuGH6fj9X0w"
      },
      "execution_count": null,
      "outputs": []
    },
    {
      "cell_type": "code",
      "source": [],
      "metadata": {
        "id": "6CtDan2Y-S0M"
      },
      "execution_count": null,
      "outputs": []
    }
  ]
}